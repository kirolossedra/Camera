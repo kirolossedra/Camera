{
  "nbformat": 4,
  "nbformat_minor": 0,
  "metadata": {
    "colab": {
      "provenance": []
    },
    "kernelspec": {
      "name": "python3",
      "display_name": "Python 3"
    },
    "language_info": {
      "name": "python"
    }
  },
  "cells": [
    {
      "cell_type": "code",
      "execution_count": null,
      "metadata": {
        "id": "DU95NzQXCitT",
        "colab": {
          "base_uri": "https://localhost:8080/"
        },
        "outputId": "278f0fc7-bee3-4d14-8193-42867d09ca22"
      },
      "outputs": [
        {
          "output_type": "stream",
          "name": "stdout",
          "text": [
            "245.80465698242188\n"
          ]
        }
      ],
      "source": [
        "import struct\n",
        "import numpy as np\n",
        "import cv2\n",
        "\n",
        "def read_pod(file, fmt):\n",
        "    # Read and unpack binary data according to the given format\n",
        "    return struct.unpack(fmt, file.read(struct.calcsize(fmt)))\n",
        "\n",
        "def read_pod_vector(file, fmt):\n",
        "    # Read the size of the vector\n",
        "    size, = read_pod(file, 'l')\n",
        "    # Read each item in the vector\n",
        "    return [read_pod(file, fmt) for _ in range(size)]\n",
        "\n",
        "def read_keypoints(file_name):\n",
        "    with open(file_name, 'rb') as file:\n",
        "        # Assuming keypoints are stored as (x, y, size, angle, response, octave, class_id)\n",
        "        num_keypoints, = read_pod(file, 'l')  # Read the number of keypoints\n",
        "        keypoints = []\n",
        "        for _ in range(num_keypoints):\n",
        "            x, y, size, angle, response, octave, class_id = read_pod(file, 'fffffii')\n",
        "            keypoints.append(cv2.KeyPoint(x, y, size, angle, response, octave, class_id))\n",
        "        return keypoints\n",
        "\n",
        "def read_kpt_matches(file_name):\n",
        "    with open(file_name, 'rb') as file:\n",
        "        # Assuming matches are stored as (queryIdx, trainIdx, imgIdx, distance)\n",
        "        num_matches, = read_pod(file, 'l')  # Read the number of matches\n",
        "        matches = []\n",
        "        for _ in range(num_matches):\n",
        "            queryIdx, trainIdx, imgIdx, distance = read_pod(file, 'iiif')\n",
        "            matches.append(cv2.DMatch(queryIdx, trainIdx, imgIdx, distance))\n",
        "        return matches\n",
        "\n",
        "# Example usage:\n",
        "keypoints_source = read_keypoints('srcA.dat')\n",
        "keypoints_ref =  read_keypoints('refA.dat')\n",
        "\n",
        "\n",
        "matches = read_kpt_matches('matchA.dat')\n",
        "\n",
        "\n",
        "print (keypoints_source[22].angle)\n"
      ]
    },
    {
      "cell_type": "code",
      "source": [
        "\n",
        "def compute_ttc_camera(kpts_prev, kpts_curr, kpt_matches, frame_rate):\n",
        "    # Compute distance ratios between all matched keypoints\n",
        "    dist_ratios = []  # Stores the distance ratios for all keypoints between curr. and prev. frame\n",
        "    for match1 in kpt_matches:\n",
        "        kp_outer_curr = kpts_curr[match1.trainIdx]\n",
        "        kp_outer_prev = kpts_prev[match1.queryIdx]\n",
        "\n",
        "        for match2 in kpt_matches:\n",
        "            kp_inner_curr = kpts_curr[match2.trainIdx]\n",
        "            kp_inner_prev = kpts_prev[match2.queryIdx]\n",
        "\n",
        "            dist_curr = np.linalg.norm(np.array(kp_outer_curr.pt) - np.array(kp_inner_curr.pt))\n",
        "            dist_prev = np.linalg.norm(np.array(kp_outer_prev.pt) - np.array(kp_inner_prev.pt))\n",
        "\n",
        "            if dist_prev > np.finfo(float).eps and dist_curr >= 100.0:\n",
        "                dist_ratio = dist_curr / dist_prev\n",
        "                dist_ratios.append(dist_ratio)\n",
        "\n",
        "    # Only continue if list of distance ratios is not empty\n",
        "    if len(dist_ratios) == 0:\n",
        "        return np.nan\n",
        "\n",
        "    # Use medianDistRatio as more robust than meanDistRatio\n",
        "    median_dist_ratio = np.median(dist_ratios)\n",
        "\n",
        "    dT = 1 / frame_rate\n",
        "    ttc = -dT / (1 - median_dist_ratio)\n",
        "\n",
        "    return ttc\n"
      ],
      "metadata": {
        "id": "Ai7KjwBGouKP"
      },
      "execution_count": null,
      "outputs": []
    },
    {
      "cell_type": "code",
      "source": [
        "ttc = compute_ttc_camera(keypoints_source,keypoints_ref,matches,10.0)\n",
        "\n"
      ],
      "metadata": {
        "id": "3KKHQAtCpiGP"
      },
      "execution_count": null,
      "outputs": []
    },
    {
      "cell_type": "code",
      "source": [
        "print(ttc)"
      ],
      "metadata": {
        "colab": {
          "base_uri": "https://localhost:8080/"
        },
        "id": "klWpfPAzp1rf",
        "outputId": "a89e1aec-9c6d-430f-9da1-8791b1d6f804"
      },
      "execution_count": null,
      "outputs": [
        {
          "output_type": "stream",
          "name": "stdout",
          "text": [
            "12.454468169322238\n"
          ]
        }
      ]
    }
  ]
}
